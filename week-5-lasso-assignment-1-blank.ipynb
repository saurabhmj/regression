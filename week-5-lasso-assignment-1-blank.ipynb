{
 "cells": [
  {
   "cell_type": "markdown",
   "metadata": {},
   "source": [
    "# Regression Week 5: Feature Selection and LASSO (Interpretation)"
   ]
  },
  {
   "cell_type": "markdown",
   "metadata": {},
   "source": [
    "In this notebook, you will use LASSO to select features, building on a pre-implemented solver for LASSO (using GraphLab Create, though you can use other solvers). You will:\n",
    "* Run LASSO with different L1 penalties.\n",
    "* Choose best L1 penalty using a validation set.\n",
    "* Choose best L1 penalty using a validation set, with additional constraint on the size of subset.\n",
    "\n",
    "In the second notebook, you will implement your own LASSO solver, using coordinate descent. "
   ]
  },
  {
   "cell_type": "markdown",
   "metadata": {},
   "source": [
    "# Fire up Graphlab Create"
   ]
  },
  {
   "cell_type": "code",
   "execution_count": 1,
   "metadata": {
    "collapsed": true
   },
   "outputs": [],
   "source": [
    "import graphlab"
   ]
  },
  {
   "cell_type": "markdown",
   "metadata": {},
   "source": [
    "# Load in house sales data\n",
    "\n",
    "Dataset is from house sales in King County, the region where the city of Seattle, WA is located."
   ]
  },
  {
   "cell_type": "code",
   "execution_count": 2,
   "metadata": {
    "collapsed": false,
    "scrolled": true
   },
   "outputs": [
    {
     "name": "stdout",
     "output_type": "stream",
     "text": [
      "This non-commercial license of GraphLab Create for academic use is assigned to saurabhjogalekar@gmail.com and will expire on July 07, 2018.\n"
     ]
    },
    {
     "name": "stderr",
     "output_type": "stream",
     "text": [
      "[INFO] graphlab.cython.cy_server: GraphLab Create v1.10.1 started. Logging: C:\\Users\\user\\AppData\\Local\\Temp\\graphlab_server_1500964585.log.0\n"
     ]
    }
   ],
   "source": [
    "sales = graphlab.SFrame('kc_house_data.gl/')"
   ]
  },
  {
   "cell_type": "markdown",
   "metadata": {},
   "source": [
    "# Create new features"
   ]
  },
  {
   "cell_type": "markdown",
   "metadata": {},
   "source": [
    "As in Week 2, we consider features that are some transformations of inputs."
   ]
  },
  {
   "cell_type": "code",
   "execution_count": 3,
   "metadata": {
    "collapsed": true
   },
   "outputs": [],
   "source": [
    "sales.head()\n",
    "from math import log, sqrt\n",
    "sales['sqft_living_sqrt'] = sales['sqft_living'].apply(sqrt)\n",
    "sales['sqft_lot_sqrt'] = sales['sqft_lot'].apply(sqrt)\n",
    "sales['bedrooms_square'] = sales['bedrooms']*sales['bedrooms']\n",
    "\n",
    "# In the dataset, 'floors' was defined with type string, \n",
    "# so we'll convert them to float, before creating a new feature.\n",
    "sales['floors'] = sales['floors'].astype(float) \n",
    "sales['floors_square'] = sales['floors']*sales['floors']"
   ]
  },
  {
   "cell_type": "markdown",
   "metadata": {},
   "source": [
    "* Squaring bedrooms will increase the separation between not many bedrooms (e.g. 1) and lots of bedrooms (e.g. 4) since 1^2 = 1 but 4^2 = 16. Consequently this variable will mostly affect houses with many bedrooms.\n",
    "* On the other hand, taking square root of sqft_living will decrease the separation between big house and small house. The owner may not be exactly twice as happy for getting a house that is twice as big."
   ]
  },
  {
   "cell_type": "markdown",
   "metadata": {},
   "source": [
    "# Learn regression weights with L1 penalty"
   ]
  },
  {
   "cell_type": "markdown",
   "metadata": {},
   "source": [
    "Let us fit a model with all the features available, plus the features we just created above."
   ]
  },
  {
   "cell_type": "code",
   "execution_count": 4,
   "metadata": {
    "collapsed": false
   },
   "outputs": [],
   "source": [
    "all_features = ['bedrooms', 'bedrooms_square',\n",
    "            'bathrooms',\n",
    "            'sqft_living', 'sqft_living_sqrt',\n",
    "            'sqft_lot', 'sqft_lot_sqrt',\n",
    "            'floors', 'floors_square',\n",
    "            'waterfront', 'view', 'condition', 'grade',\n",
    "            'sqft_above',\n",
    "            'sqft_basement',\n",
    "            'yr_built', 'yr_renovated']"
   ]
  },
  {
   "cell_type": "markdown",
   "metadata": {},
   "source": [
    "Applying L1 penalty requires adding an extra parameter (`l1_penalty`) to the linear regression call in GraphLab Create. (Other tools may have separate implementations of LASSO.)  Note that it's important to set `l2_penalty=0` to ensure we don't introduce an additional L2 penalty."
   ]
  },
  {
   "cell_type": "code",
   "execution_count": 5,
   "metadata": {
    "collapsed": false
   },
   "outputs": [
    {
     "data": {
      "text/html": [
       "<pre>Linear regression:</pre>"
      ],
      "text/plain": [
       "Linear regression:"
      ]
     },
     "metadata": {},
     "output_type": "display_data"
    },
    {
     "data": {
      "text/html": [
       "<pre>--------------------------------------------------------</pre>"
      ],
      "text/plain": [
       "--------------------------------------------------------"
      ]
     },
     "metadata": {},
     "output_type": "display_data"
    },
    {
     "data": {
      "text/html": [
       "<pre>Number of examples          : 21613</pre>"
      ],
      "text/plain": [
       "Number of examples          : 21613"
      ]
     },
     "metadata": {},
     "output_type": "display_data"
    },
    {
     "data": {
      "text/html": [
       "<pre>Number of features          : 17</pre>"
      ],
      "text/plain": [
       "Number of features          : 17"
      ]
     },
     "metadata": {},
     "output_type": "display_data"
    },
    {
     "data": {
      "text/html": [
       "<pre>Number of unpacked features : 17</pre>"
      ],
      "text/plain": [
       "Number of unpacked features : 17"
      ]
     },
     "metadata": {},
     "output_type": "display_data"
    },
    {
     "data": {
      "text/html": [
       "<pre>Number of coefficients    : 18</pre>"
      ],
      "text/plain": [
       "Number of coefficients    : 18"
      ]
     },
     "metadata": {},
     "output_type": "display_data"
    },
    {
     "data": {
      "text/html": [
       "<pre>Starting Accelerated Gradient (FISTA)</pre>"
      ],
      "text/plain": [
       "Starting Accelerated Gradient (FISTA)"
      ]
     },
     "metadata": {},
     "output_type": "display_data"
    },
    {
     "data": {
      "text/html": [
       "<pre>--------------------------------------------------------</pre>"
      ],
      "text/plain": [
       "--------------------------------------------------------"
      ]
     },
     "metadata": {},
     "output_type": "display_data"
    },
    {
     "data": {
      "text/html": [
       "<pre>+-----------+----------+-----------+--------------+--------------------+---------------+</pre>"
      ],
      "text/plain": [
       "+-----------+----------+-----------+--------------+--------------------+---------------+"
      ]
     },
     "metadata": {},
     "output_type": "display_data"
    },
    {
     "data": {
      "text/html": [
       "<pre>| Iteration | Passes   | Step size | Elapsed Time | Training-max_error | Training-rmse |</pre>"
      ],
      "text/plain": [
       "| Iteration | Passes   | Step size | Elapsed Time | Training-max_error | Training-rmse |"
      ]
     },
     "metadata": {},
     "output_type": "display_data"
    },
    {
     "data": {
      "text/html": [
       "<pre>+-----------+----------+-----------+--------------+--------------------+---------------+</pre>"
      ],
      "text/plain": [
       "+-----------+----------+-----------+--------------+--------------------+---------------+"
      ]
     },
     "metadata": {},
     "output_type": "display_data"
    },
    {
     "data": {
      "text/html": [
       "<pre>Tuning step size. First iteration could take longer than subsequent iterations.</pre>"
      ],
      "text/plain": [
       "Tuning step size. First iteration could take longer than subsequent iterations."
      ]
     },
     "metadata": {},
     "output_type": "display_data"
    },
    {
     "data": {
      "text/html": [
       "<pre>| 1         | 2        | 0.000002  | 1.297074     | 6962915.603493     | 426631.749026 |</pre>"
      ],
      "text/plain": [
       "| 1         | 2        | 0.000002  | 1.297074     | 6962915.603493     | 426631.749026 |"
      ]
     },
     "metadata": {},
     "output_type": "display_data"
    },
    {
     "data": {
      "text/html": [
       "<pre>| 2         | 3        | 0.000002  | 1.443082     | 6843144.200219     | 392488.929838 |</pre>"
      ],
      "text/plain": [
       "| 2         | 3        | 0.000002  | 1.443082     | 6843144.200219     | 392488.929838 |"
      ]
     },
     "metadata": {},
     "output_type": "display_data"
    },
    {
     "data": {
      "text/html": [
       "<pre>| 3         | 4        | 0.000002  | 1.478084     | 6831900.032123     | 385340.166783 |</pre>"
      ],
      "text/plain": [
       "| 3         | 4        | 0.000002  | 1.478084     | 6831900.032123     | 385340.166783 |"
      ]
     },
     "metadata": {},
     "output_type": "display_data"
    },
    {
     "data": {
      "text/html": [
       "<pre>| 4         | 5        | 0.000002  | 1.517086     | 6847166.848958     | 384842.383767 |</pre>"
      ],
      "text/plain": [
       "| 4         | 5        | 0.000002  | 1.517086     | 6847166.848958     | 384842.383767 |"
      ]
     },
     "metadata": {},
     "output_type": "display_data"
    },
    {
     "data": {
      "text/html": [
       "<pre>| 5         | 6        | 0.000002  | 1.548088     | 6869667.895833     | 385998.458623 |</pre>"
      ],
      "text/plain": [
       "| 5         | 6        | 0.000002  | 1.548088     | 6869667.895833     | 385998.458623 |"
      ]
     },
     "metadata": {},
     "output_type": "display_data"
    },
    {
     "data": {
      "text/html": [
       "<pre>| 6         | 7        | 0.000002  | 1.579090     | 6847177.773672     | 380824.455891 |</pre>"
      ],
      "text/plain": [
       "| 6         | 7        | 0.000002  | 1.579090     | 6847177.773672     | 380824.455891 |"
      ]
     },
     "metadata": {},
     "output_type": "display_data"
    },
    {
     "data": {
      "text/html": [
       "<pre>+-----------+----------+-----------+--------------+--------------------+---------------+</pre>"
      ],
      "text/plain": [
       "+-----------+----------+-----------+--------------+--------------------+---------------+"
      ]
     },
     "metadata": {},
     "output_type": "display_data"
    },
    {
     "data": {
      "text/html": [
       "<pre>TERMINATED: Iteration limit reached.</pre>"
      ],
      "text/plain": [
       "TERMINATED: Iteration limit reached."
      ]
     },
     "metadata": {},
     "output_type": "display_data"
    },
    {
     "data": {
      "text/html": [
       "<pre>This model may not be optimal. To improve it, consider increasing `max_iterations`.</pre>"
      ],
      "text/plain": [
       "This model may not be optimal. To improve it, consider increasing `max_iterations`."
      ]
     },
     "metadata": {},
     "output_type": "display_data"
    }
   ],
   "source": [
    "model_all = graphlab.linear_regression.create(sales, target='price', features=all_features,\n",
    "                                              validation_set=None, \n",
    "                                              l2_penalty=0., l1_penalty=1e10)"
   ]
  },
  {
   "cell_type": "markdown",
   "metadata": {},
   "source": [
    "Find what features had non-zero weight.\n",
    "\n",
    "## 6"
   ]
  },
  {
   "cell_type": "code",
   "execution_count": 23,
   "metadata": {
    "collapsed": false
   },
   "outputs": [
    {
     "name": "stdout",
     "output_type": "stream",
     "text": [
      "{'index': None, 'stderr': None, 'name': '(intercept)', 'value': 274873.0559504957}\n",
      "{'index': None, 'stderr': None, 'name': 'bathrooms', 'value': 8468.531086910072}\n",
      "{'index': None, 'stderr': None, 'name': 'sqft_living', 'value': 24.420720982445214}\n",
      "{'index': None, 'stderr': None, 'name': 'sqft_living_sqrt', 'value': 350.0605533860648}\n",
      "{'index': None, 'stderr': None, 'name': 'grade', 'value': 842.0680348976282}\n",
      "{'index': None, 'stderr': None, 'name': 'sqft_above', 'value': 20.024722417091304}\n"
     ]
    }
   ],
   "source": [
    "#model_all.print_rows(num_rows=30, num_columns=5)\n",
    "#SFrame.print_rows(num_rows=30, num_columns=5)\n",
    "coeff = model_all.get('coefficients')\n",
    "\n",
    "for c in coeff:\n",
    "    if c['value'] > 0:\n",
    "        print c"
   ]
  },
  {
   "cell_type": "markdown",
   "metadata": {},
   "source": [
    "Note that a majority of the weights have been set to zero. So by setting an L1 penalty that's large enough, we are performing a subset selection. \n",
    "\n",
    "***QUIZ QUESTION***:\n",
    "According to this list of weights, which of the features have been chosen? "
   ]
  },
  {
   "cell_type": "markdown",
   "metadata": {},
   "source": [
    "# Selecting an L1 penalty"
   ]
  },
  {
   "cell_type": "markdown",
   "metadata": {},
   "source": [
    "To find a good L1 penalty, we will explore multiple values using a validation set. Let us do three way split into train, validation, and test sets:\n",
    "* Split our sales data into 2 sets: training and test\n",
    "* Further split our training data into two sets: train, validation\n",
    "\n",
    "Be *very* careful that you use seed = 1 to ensure you get the same answer!"
   ]
  },
  {
   "cell_type": "code",
   "execution_count": 24,
   "metadata": {
    "collapsed": true
   },
   "outputs": [],
   "source": [
    "(training_and_validation, testing) = sales.random_split(.9,seed=1) # initial train/test split\n",
    "(training, validation) = training_and_validation.random_split(0.5, seed=1) # split training into train and validate"
   ]
  },
  {
   "cell_type": "markdown",
   "metadata": {},
   "source": [
    "Next, we write a loop that does the following:\n",
    "* For `l1_penalty` in [10^1, 10^1.5, 10^2, 10^2.5, ..., 10^7] (to get this in Python, type `np.logspace(1, 7, num=13)`.)\n",
    "    * Fit a regression model with a given `l1_penalty` on TRAIN data. Specify `l1_penalty=l1_penalty` and `l2_penalty=0.` in the parameter list.\n",
    "    * Compute the RSS on VALIDATION data (here you will want to use `.predict()`) for that `l1_penalty`\n",
    "* Report which `l1_penalty` produced the lowest RSS on validation data.\n",
    "\n",
    "When you call `linear_regression.create()` make sure you set `validation_set = None`.\n",
    "\n",
    "Note: you can turn off the print out of `linear_regression.create()` with `verbose = False`"
   ]
  },
  {
   "cell_type": "code",
   "execution_count": 31,
   "metadata": {
    "collapsed": false
   },
   "outputs": [
    {
     "name": "stdout",
     "output_type": "stream",
     "text": [
      "done with creating a model for l1 :  10.0\n",
      "calculated RSS..   6.25766285142e+14\n",
      "RSS changed for model with l1 :  10.0    current min RSS value is :  6.25766285142e+14\n",
      "done with creating a model for l1 :  31.6227766017\n",
      "calculated RSS..   6.25766285362e+14\n",
      "done with creating a model for l1 :  100.0\n",
      "calculated RSS..   6.25766286058e+14\n",
      "done with creating a model for l1 :  316.227766017\n",
      "calculated RSS..   6.25766288257e+14\n",
      "done with creating a model for l1 :  1000.0\n",
      "calculated RSS..   6.25766295212e+14\n",
      "done with creating a model for l1 :  3162.27766017\n",
      "calculated RSS..   6.25766317206e+14\n",
      "done with creating a model for l1 :  10000.0\n",
      "calculated RSS..   6.25766386761e+14\n",
      "done with creating a model for l1 :  31622.7766017\n",
      "calculated RSS..   6.25766606749e+14\n",
      "done with creating a model for l1 :  100000.0\n",
      "calculated RSS..   6.25767302792e+14\n",
      "done with creating a model for l1 :  316227.766017\n",
      "calculated RSS..   6.25769507644e+14\n",
      "done with creating a model for l1 :  1000000.0\n",
      "calculated RSS..   6.25776517727e+14\n",
      "done with creating a model for l1 :  3162277.66017\n",
      "calculated RSS..   6.25799062845e+14\n",
      "done with creating a model for l1 :  10000000.0\n",
      "calculated RSS..   6.25883719085e+14\n"
     ]
    }
   ],
   "source": [
    "import numpy as np\n",
    "RSS = float('inf')\n",
    "for l1 in np.logspace(1, 7, num=13):\n",
    "    model_all = graphlab.linear_regression.create(training, target='price', features=all_features,\n",
    "                                              validation_set=None, verbose = False,\n",
    "                                              l2_penalty=0., l1_penalty=l1)\n",
    "    print \"done with creating a model for l1 : \", l1\n",
    "    \n",
    "    prediction = model_all.predict(validation)\n",
    "    rss = sum((prediction - validation['price'])**2)\n",
    "    \n",
    "    print \"calculated RSS..  \", rss\n",
    "    \n",
    "    if rss < RSS:\n",
    "        RSS = rss        \n",
    "        print \"RSS changed for model with l1 : \", l1, \"   current min RSS value is : \", RSS\n",
    "    \n",
    "    "
   ]
  },
  {
   "cell_type": "code",
   "execution_count": null,
   "metadata": {
    "collapsed": false
   },
   "outputs": [],
   "source": []
  },
  {
   "cell_type": "markdown",
   "metadata": {},
   "source": [
    "*** QUIZ QUESTION. *** What was the best value for the `l1_penalty`?\n",
    "\n",
    "**10**"
   ]
  },
  {
   "cell_type": "code",
   "execution_count": 57,
   "metadata": {
    "collapsed": false
   },
   "outputs": [
    {
     "name": "stdout",
     "output_type": "stream",
     "text": [
      "18\n"
     ]
    }
   ],
   "source": [
    "model_all = graphlab.linear_regression.create(training, target='price', features=all_features,\n",
    "                                              validation_set=None, verbose = False,\n",
    "                                              l2_penalty=0., l1_penalty=10)\n",
    "coeff = model_all.get('coefficients')\n",
    "n=0\n",
    "for c in coeff:\n",
    "    if c['value'] > 0:\n",
    "        #print c\n",
    "        n=n+1\n",
    "print n"
   ]
  },
  {
   "cell_type": "markdown",
   "metadata": {},
   "source": [
    "***QUIZ QUESTION***\n",
    "Also, using this value of L1 penalty, how many nonzero weights do you have?"
   ]
  },
  {
   "cell_type": "code",
   "execution_count": null,
   "metadata": {
    "collapsed": false
   },
   "outputs": [],
   "source": []
  },
  {
   "cell_type": "markdown",
   "metadata": {},
   "source": [
    "# Limit the number of nonzero weights\n",
    "\n",
    "What if we absolutely wanted to limit ourselves to, say, 7 features? This may be important if we want to derive \"a rule of thumb\" --- an interpretable model that has only a few features in them."
   ]
  },
  {
   "cell_type": "markdown",
   "metadata": {},
   "source": [
    "In this section, you are going to implement a simple, two phase procedure to achive this goal:\n",
    "1. Explore a large range of `l1_penalty` values to find a narrow region of `l1_penalty` values where models are likely to have the desired number of non-zero weights.\n",
    "2. Further explore the narrow region you found to find a good value for `l1_penalty` that achieves the desired sparsity.  Here, we will again use a validation set to choose the best value for `l1_penalty`."
   ]
  },
  {
   "cell_type": "code",
   "execution_count": 36,
   "metadata": {
    "collapsed": true
   },
   "outputs": [],
   "source": [
    "max_nonzeros = 7"
   ]
  },
  {
   "cell_type": "markdown",
   "metadata": {},
   "source": [
    "## Exploring the larger range of values to find a narrow range with the desired sparsity\n",
    "\n",
    "Let's define a wide range of possible `l1_penalty_values`:"
   ]
  },
  {
   "cell_type": "code",
   "execution_count": 37,
   "metadata": {
    "collapsed": false
   },
   "outputs": [],
   "source": [
    "l1_penalty_values = np.logspace(8, 10, num=20)"
   ]
  },
  {
   "cell_type": "markdown",
   "metadata": {},
   "source": [
    "Now, implement a loop that search through this space of possible `l1_penalty` values:\n",
    "\n",
    "* For `l1_penalty` in `np.logspace(8, 10, num=20)`:\n",
    "    * Fit a regression model with a given `l1_penalty` on TRAIN data. Specify `l1_penalty=l1_penalty` and `l2_penalty=0.` in the parameter list. When you call `linear_regression.create()` make sure you set `validation_set = None`\n",
    "    * Extract the weights of the model and count the number of nonzeros. Save the number of nonzeros to a list.\n",
    "        * *Hint: `model['coefficients']['value']` gives you an SArray with the parameters you learned.  If you call the method `.nnz()` on it, you will find the number of non-zero parameters!* "
   ]
  },
  {
   "cell_type": "code",
   "execution_count": 48,
   "metadata": {
    "collapsed": false
   },
   "outputs": [
    {
     "name": "stdout",
     "output_type": "stream",
     "text": [
      "Non zero coefficients for model with l1 :  100000000.0  are : 18\n",
      "Non zero coefficients for model with l1 :  127427498.57  are : 18\n",
      "Non zero coefficients for model with l1 :  162377673.919  are : 18\n",
      "Non zero coefficients for model with l1 :  206913808.111  are : 18\n",
      "Non zero coefficients for model with l1 :  263665089.873  are : 17\n",
      "Non zero coefficients for model with l1 :  335981828.628  are : 17\n",
      "Non zero coefficients for model with l1 :  428133239.872  are : 17\n",
      "Non zero coefficients for model with l1 :  545559478.117  are : 17\n",
      "Non zero coefficients for model with l1 :  695192796.178  are : 17\n",
      "Non zero coefficients for model with l1 :  885866790.41  are : 16\n",
      "Non zero coefficients for model with l1 :  1128837891.68  are : 15\n",
      "Non zero coefficients for model with l1 :  1438449888.29  are : 15\n",
      "Non zero coefficients for model with l1 :  1832980710.83  are : 13\n",
      "Non zero coefficients for model with l1 :  2335721469.09  are : 12\n",
      "Non zero coefficients for model with l1 :  2976351441.63  are : 10\n",
      "Non zero coefficients for model with l1 :  3792690190.73  are : 6\n",
      "Non zero coefficients for model with l1 :  4832930238.57  are : 5\n",
      "Non zero coefficients for model with l1 :  6158482110.66  are : 3\n",
      "Non zero coefficients for model with l1 :  7847599703.51  are : 1\n",
      "Non zero coefficients for model with l1 :  10000000000.0  are : 1\n",
      "2976351441.63\n",
      "3792690190.73\n"
     ]
    }
   ],
   "source": [
    "#l1_nnz_list = []\n",
    "#l1_coeff=[]\n",
    "max_l1 = 0\n",
    "min_l1 = float('inf')\n",
    "for l1 in l1_penalty_values:\n",
    "    model_all = graphlab.linear_regression.create(training, target='price', features=all_features,\n",
    "                                              validation_set=None, verbose = False,\n",
    "                                              l2_penalty=0., l1_penalty=l1)\n",
    "    nnz_coeff = model_all['coefficients']['value'].nnz()\n",
    "    print \"Non zero coefficients for model with l1 : \", l1, \" are :\", nnz_coeff\n",
    "    \n",
    "    if nnz_coeff > max_nonzeros and l1 > max_l1:\n",
    "        max_l1 = l1\n",
    "    if nnz_coeff < max_nonzeros and l1 < min_l1:\n",
    "        min_l1 = l1\n",
    "        \n",
    "    #l1_nnz_list.append(nnz_coeff)\n",
    "    #l1_coeff.append(l1)\n",
    "'''\n",
    "Non zero coefficients for model with l1 :  100000000.0  are : 18\n",
    "Non zero coefficients for model with l1 :  127427498.57  are : 18\n",
    "Non zero coefficients for model with l1 :  162377673.919  are : 18\n",
    "Non zero coefficients for model with l1 :  206913808.111  are : 18\n",
    "Non zero coefficients for model with l1 :  263665089.873  are : 17\n",
    "Non zero coefficients for model with l1 :  335981828.628  are : 17\n",
    "Non zero coefficients for model with l1 :  428133239.872  are : 17\n",
    "Non zero coefficients for model with l1 :  545559478.117  are : 17\n",
    "Non zero coefficients for model with l1 :  695192796.178  are : 17\n",
    "Non zero coefficients for model with l1 :  885866790.41  are : 16\n",
    "Non zero coefficients for model with l1 :  1128837891.68  are : 15\n",
    "Non zero coefficients for model with l1 :  1438449888.29  are : 15\n",
    "Non zero coefficients for model with l1 :  1832980710.83  are : 13\n",
    "Non zero coefficients for model with l1 :  2335721469.09  are : 12\n",
    "Non zero coefficients for model with l1 :  2976351441.63  are : 10\n",
    "Non zero coefficients for model with l1 :  3792690190.73  are : 6\n",
    "Non zero coefficients for model with l1 :  4832930238.57  are : 5\n",
    "Non zero coefficients for model with l1 :  6158482110.66  are : 3\n",
    "Non zero coefficients for model with l1 :  7847599703.51  are : 1\n",
    "Non zero coefficients for model with l1 :  10000000000.0  are : 1\n",
    "'''\n",
    "print max_l1\n",
    "print min_l1"
   ]
  },
  {
   "cell_type": "markdown",
   "metadata": {},
   "source": [
    "Out of this large range, we want to find the two ends of our desired narrow range of `l1_penalty`.  At one end, we will have `l1_penalty` values that have too few non-zeros, and at the other end, we will have an `l1_penalty` that has too many non-zeros.  \n",
    "\n",
    "More formally, find:\n",
    "* The largest `l1_penalty` that has more non-zeros than `max_nonzeros` (if we pick a penalty smaller than this value, we will definitely have too many non-zero weights)\n",
    "    * Store this value in the variable `l1_penalty_min` (we will use it later)\n",
    "* The smallest `l1_penalty` that has fewer non-zeros than `max_nonzeros` (if we pick a penalty larger than this value, we will definitely have too few non-zero weights)\n",
    "    * Store this value in the variable `l1_penalty_max` (we will use it later)\n",
    "\n",
    "\n",
    "*Hint: there are many ways to do this, e.g.:*\n",
    "* Programmatically within the loop above\n",
    "* Creating a list with the number of non-zeros for each value of `l1_penalty` and inspecting it to find the appropriate boundaries."
   ]
  },
  {
   "cell_type": "code",
   "execution_count": 49,
   "metadata": {
    "collapsed": false
   },
   "outputs": [],
   "source": [
    "l1_penalty_min = max_l1\n",
    "l1_penalty_max = min_l1"
   ]
  },
  {
   "cell_type": "markdown",
   "metadata": {},
   "source": [
    "***QUIZ QUESTION.*** What values did you find for `l1_penalty_min` and `l1_penalty_max`, respectively? \n",
    "\n",
    "**2976351441.63\n",
    "3792690190.73**"
   ]
  },
  {
   "cell_type": "markdown",
   "metadata": {},
   "source": [
    "## Exploring the narrow range of values to find the solution with the right number of non-zeros that has lowest RSS on the validation set \n",
    "\n",
    "We will now explore the narrow region of `l1_penalty` values we found:"
   ]
  },
  {
   "cell_type": "code",
   "execution_count": 50,
   "metadata": {
    "collapsed": true
   },
   "outputs": [],
   "source": [
    "l1_penalty_values = np.linspace(l1_penalty_min,l1_penalty_max,20)"
   ]
  },
  {
   "cell_type": "markdown",
   "metadata": {},
   "source": [
    "* For `l1_penalty` in `np.linspace(l1_penalty_min,l1_penalty_max,20)`:\n",
    "    * Fit a regression model with a given `l1_penalty` on TRAIN data. Specify `l1_penalty=l1_penalty` and `l2_penalty=0.` in the parameter list. When you call `linear_regression.create()` make sure you set `validation_set = None`\n",
    "    * Measure the RSS of the learned model on the VALIDATION set\n",
    "\n",
    "Find the model that the lowest RSS on the VALIDATION set and has sparsity *equal* to `max_nonzeros`."
   ]
  },
  {
   "cell_type": "code",
   "execution_count": 55,
   "metadata": {
    "collapsed": false
   },
   "outputs": [
    {
     "name": "stdout",
     "output_type": "stream",
     "text": [
      "done with creating a model for l1 :  2976351441.63\n",
      "calculated RSS :    9.66925692362e+14   number of nonzero coeff :  10\n",
      "done with creating a model for l1 :  3019316638.95\n",
      "calculated RSS :    9.74019450085e+14   number of nonzero coeff :  10\n",
      "done with creating a model for l1 :  3062281836.27\n",
      "calculated RSS :    9.81188367942e+14   number of nonzero coeff :  10\n",
      "done with creating a model for l1 :  3105247033.59\n",
      "calculated RSS :    9.89328342459e+14   number of nonzero coeff :  10\n",
      "done with creating a model for l1 :  3148212230.92\n",
      "calculated RSS :    9.98783211266e+14   number of nonzero coeff :  10\n",
      "done with creating a model for l1 :  3191177428.24\n",
      "calculated RSS :    1.00847716702e+15   number of nonzero coeff :  10\n",
      "done with creating a model for l1 :  3234142625.56\n",
      "calculated RSS :    1.01829878055e+15   number of nonzero coeff :  10\n",
      "done with creating a model for l1 :  3277107822.88\n",
      "calculated RSS :    1.02824799221e+15   number of nonzero coeff :  10\n",
      "done with creating a model for l1 :  3320073020.2\n",
      "calculated RSS :    1.03461690923e+15   number of nonzero coeff :  8\n",
      "done with creating a model for l1 :  3363038217.52\n",
      "calculated RSS :    1.03855473594e+15   number of nonzero coeff :  8\n",
      "done with creating a model for l1 :  3406003414.84\n",
      "calculated RSS :    1.04323723787e+15   number of nonzero coeff :  8\n",
      "done with creating a model for l1 :  3448968612.16\n",
      "calculated RSS :    1.04693748875e+15   number of nonzero coeff :  7\n",
      "RSS changed for model with l1 :  3448968612.16    current min RSS value is :  1.04693748875e+15\n",
      "features with non zero.... {'index': None, 'stderr': None, 'name': '(intercept)', 'value': 222253.19254432785}\n",
      "features with non zero.... {'index': None, 'stderr': None, 'name': 'bedrooms', 'value': 661.7227177822587}\n",
      "features with non zero.... {'index': None, 'stderr': None, 'name': 'bathrooms', 'value': 15873.957259267981}\n",
      "features with non zero.... {'index': None, 'stderr': None, 'name': 'sqft_living', 'value': 32.41022145125964}\n",
      "features with non zero.... {'index': None, 'stderr': None, 'name': 'sqft_living_sqrt', 'value': 690.1147733133256}\n",
      "features with non zero.... {'index': None, 'stderr': None, 'name': 'grade', 'value': 2899.4202697498786}\n",
      "features with non zero.... {'index': None, 'stderr': None, 'name': 'sqft_above', 'value': 30.011575302201045}\n",
      "done with creating a model for l1 :  3491933809.48\n",
      "calculated RSS :    1.05114762561e+15   number of nonzero coeff :  7\n",
      "done with creating a model for l1 :  3534899006.81\n",
      "calculated RSS :    1.05599273534e+15   number of nonzero coeff :  7\n",
      "done with creating a model for l1 :  3577864204.13\n",
      "calculated RSS :    1.06079953176e+15   number of nonzero coeff :  7\n",
      "done with creating a model for l1 :  3620829401.45\n",
      "calculated RSS :    1.0657076895e+15   number of nonzero coeff :  6\n",
      "done with creating a model for l1 :  3663794598.77\n",
      "calculated RSS :    1.06946433543e+15   number of nonzero coeff :  6\n",
      "done with creating a model for l1 :  3706759796.09\n",
      "calculated RSS :    1.07350454959e+15   number of nonzero coeff :  6\n",
      "done with creating a model for l1 :  3749724993.41\n",
      "calculated RSS :    1.07763277558e+15   number of nonzero coeff :  6\n",
      "done with creating a model for l1 :  3792690190.73\n",
      "calculated RSS :    1.08186759232e+15   number of nonzero coeff :  6\n"
     ]
    }
   ],
   "source": [
    "RSS = float('inf')\n",
    "for l1 in l1_penalty_values:\n",
    "    model_all = graphlab.linear_regression.create(training, target='price', features=all_features,\n",
    "                                              validation_set=None, verbose = False,\n",
    "                                              l2_penalty=0., l1_penalty=l1)\n",
    "    print \"done with creating a model for l1 : \", l1\n",
    "    \n",
    "    prediction = model_all.predict(validation)\n",
    "    rss = sum((prediction - validation['price'])**2)\n",
    "    nnz_coeff = model_all['coefficients']['value'].nnz()\n",
    "    \n",
    "    print \"calculated RSS :   \", rss, \"  number of nonzero coeff : \", nnz_coeff\n",
    "    \n",
    "    if rss < RSS and nnz_coeff == max_nonzeros:\n",
    "        RSS = rss        \n",
    "        print \"RSS changed for model with l1 : \", l1, \"   current min RSS value is : \", RSS\n",
    "        coeff = model_all.get('coefficients')\n",
    "        for c in coeff:\n",
    "            if c['value'] > 0:\n",
    "                print \"features with non zero....\",c"
   ]
  },
  {
   "cell_type": "markdown",
   "metadata": {},
   "source": [
    "***QUIZ QUESTIONS***\n",
    "1. What value of `l1_penalty` in our narrow range has the lowest RSS on the VALIDATION set and has sparsity *equal* to `max_nonzeros`?\n",
    "2. What features in this model have non-zero coefficients?"
   ]
  },
  {
   "cell_type": "code",
   "execution_count": null,
   "metadata": {
    "collapsed": false
   },
   "outputs": [],
   "source": [
    "'''\n",
    "done with creating a model for l1 :  3448968612.16\n",
    "calculated RSS :    1.04693748875e+15   number of nonzero coeff :  7\n",
    "RSS changed for model with l1 :  3448968612.16    current min RSS value is :  1.04693748875e+15\n",
    "'''\n",
    "\n"
   ]
  }
 ],
 "metadata": {
  "kernelspec": {
   "display_name": "Python 2",
   "language": "python",
   "name": "python2"
  },
  "language_info": {
   "codemirror_mode": {
    "name": "ipython",
    "version": 2
   },
   "file_extension": ".py",
   "mimetype": "text/x-python",
   "name": "python",
   "nbconvert_exporter": "python",
   "pygments_lexer": "ipython2",
   "version": "2.7.11"
  }
 },
 "nbformat": 4,
 "nbformat_minor": 0
}
